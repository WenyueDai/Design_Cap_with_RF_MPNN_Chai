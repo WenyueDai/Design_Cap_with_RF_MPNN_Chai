{
 "cells": [
  {
   "cell_type": "markdown",
   "metadata": {},
   "source": [
    "conda activate getcontact\n",
    "\n",
    "These are several script:\n",
    "1. Clean and renumber PDB files from folder\n",
    "2. Output the protein sequence from PDB\n",
    "3. Repack the protein sequence using pyrosetta"
   ]
  },
  {
   "cell_type": "code",
   "execution_count": 21,
   "metadata": {},
   "outputs": [
    {
     "name": "stdout",
     "output_type": "stream",
     "text": [
      "Processing: 3ult.pdb\n",
      "Saved cleaned file: /home/eva/0_bury_charged_pair/0_Biopython_playground/0_myown_tips_tricks/output/3ult_cleaned.pdb\n"
     ]
    }
   ],
   "source": [
    "from genericpath import isdir\n",
    "from os.path import join\n",
    "from os import makedirs, listdir\n",
    "from pymol import cmd # type: ignore\n",
    "\n",
    "def clean_and_renumber_pdb(input_file, output_file, start_resi=1, chains_to_keep=\"A\"):\n",
    "    \"\"\"\n",
    "    Cleans and renumbers a PDB file:\n",
    "    - Removes water (HOH) and common ions (NA, CL, MG, CA, ZN).\n",
    "    - Keeps only atoms with alternate locations 'A' or ' '.\n",
    "    - Filters to keep only specified chain(s), default is chain A.\n",
    "    - Renumbers residues and atoms sequentially\n",
    "    \"\"\"\n",
    "    cmd.load(input_file, \"protein\")\n",
    "\n",
    "    # Remove water, ions, and unwanted heteroatoms\n",
    "    cmd.remove(\"resn HOH or resn NA+CL+MG+CA+ZN or hetatm\")\n",
    "\n",
    "    # Keep only alternate locations 'A' or empty\n",
    "    cmd.remove(\"not alt ''+A\")\n",
    "\n",
    "    # Keep only the specified chain(s)\n",
    "    if chains_to_keep:\n",
    "        cmd.remove(f\"not chain {chains_to_keep}\")\n",
    "\n",
    "    # Renumber residues to start from 1\n",
    "    starting_residue = int(cmd.get_model(\"all\").atom[0].resi)  # Find the starting residue number\n",
    "    cmd.alter(\"all\", f\"resi=str(int(resi) - {starting_residue - 1})\")  # Adjust residues to start from 1\n",
    "\n",
    "    # Renumber atoms sequentially starting from 1\n",
    "    atom_counter = 1\n",
    "    cmd.alter(\"all\", \"serial=atom_counter; atom_counter+=1\", space={'atom_counter': atom_counter})\n",
    "\n",
    "    # Sort atoms to ensure proper ordering\n",
    "    cmd.sort()\n",
    "\n",
    "    # Save the cleaned and renumbered PDB file\n",
    "    cmd.save(output_file, \"protein\")\n",
    "    cmd.delete(\"all\")\n",
    "\n",
    "\n",
    "def batch_clean_and_renumber(input_folder, output_folder, chains_to_keep=\"A\"):\n",
    "    if not isdir(output_folder):\n",
    "        makedirs(output_folder, exist_ok=True)\n",
    "\n",
    "    for file_name in listdir(input_folder):\n",
    "        if file_name.endswith(\".pdb\"):\n",
    "            input_path = join(input_folder, file_name)\n",
    "            output_path = join(output_folder, f\"{file_name.split('.')[0]}_cleaned.pdb\")\n",
    "            print(f\"Processing: {file_name}\")\n",
    "            clean_and_renumber_pdb(input_path, output_path, chains_to_keep=chains_to_keep)\n",
    "            print(f\"Saved cleaned file: {output_path}\")\n",
    "\n",
    "\n",
    "# Example usage\n",
    "input_folder = \"/home/eva/0_bury_charged_pair/0_Biopython_playground/0_myown_tips_tricks/input\"  \n",
    "output_folder = \"/home/eva/0_bury_charged_pair/0_Biopython_playground/0_myown_tips_tricks/output\" \n",
    "batch_clean_and_renumber(input_folder, output_folder, chains_to_keep=\"A\")\n"
   ]
  },
  {
   "cell_type": "code",
   "execution_count": 22,
   "metadata": {},
   "outputs": [
    {
     "name": "stdout",
     "output_type": "stream",
     "text": [
      "Sequence of chain A: PNTISGSNNTVRSGSKNVLAGNDNTVISGDNNSVSGSNNTVVSGNDNTVTGSNHVVSGTNHIVTDNNNNVSGNDNNVSGSFHTVSGGHNTVSGSNNTVSGSNHVVSGSNKVVTD\n",
      "114\n"
     ]
    }
   ],
   "source": [
    "#Output protein sequences\n",
    "def parse_pdb_sequence(file_path, chain_id='A'):\n",
    "    three_to_one = {\n",
    "        'ALA': 'A', 'ARG': 'R', 'ASN': 'N', 'ASP': 'D', 'CYS': 'C',\n",
    "        'GLN': 'Q', 'GLU': 'E', 'GLY': 'G', 'HIS': 'H', 'ILE': 'I',\n",
    "        'LEU': 'L', 'LYS': 'K', 'MET': 'M', 'PHE': 'F', 'PRO': 'P',\n",
    "        'SER': 'S', 'THR': 'T', 'TRP': 'W', 'TYR': 'Y', 'VAL': 'V'\n",
    "    }\n",
    "\n",
    "    sequence = {}\n",
    "    with open(file_path, 'r') as file:\n",
    "        for line in file:\n",
    "            if line.startswith(('ATOM')) and line[21].strip() == chain_id:\n",
    "                res_name = line[17:20].strip()\n",
    "                if res_name in three_to_one:\n",
    "                    sequence[line[22:27].strip()] = three_to_one[res_name]   \n",
    "    return \"\".join(sequence.values())\n",
    "\n",
    "#Sequence of chain A: PNTISGSNTVRSGSKNVLAGNDNTVISGDNSVSGSNTVSGNDNTVTGSNHVSGTNHIVTDNVSGNDNVSGSFHTVSGHNTVSGSNTVSGSNHVSGSNKVTD\n",
    "# Provide the path to your PDB file\n",
    "pdb_file_path = '/home/eva/0_bury_charged_pair/0_Biopython_playground/0_myown_tips_tricks/output/3ult_cleaned.pdb'\n",
    "\n",
    "sequence = parse_pdb_sequence(pdb_file_path)\n",
    "print(f\"Sequence of chain A: {sequence}\")\n",
    "print(len(\"PNTISGSNNTVRSGSKNVLAGNDNTVISGDNNSVSGSNNTVVSGNDNTVTGSNHVVSGTNHIVTDNNNNVSGNDNNVSGSFHTVSGGHNTVSGSNNTVSGSNHVVSGSNKVVTD\"))"
   ]
  },
  {
   "cell_type": "code",
   "execution_count": 1,
   "metadata": {},
   "outputs": [
    {
     "name": "stdout",
     "output_type": "stream",
     "text": [
      "PNTISGSNNTVRSGSKNVLAGNDNTVISGDNNSVSGSNNTVVSGNDNTVTGSNHVVSGTNHIVTDNNNNVSGNDNNVSGSFHTVSGGHNTVSGSNNTVSGSNHVVSGSNKVVTD\n"
     ]
    }
   ],
   "source": [
    "# Another way of output the protein sequence\n",
    "import Bio.PDB\n",
    "\n",
    "pdb_file_path = '/home/eva/0_bury_charged_pair/0_Biopython_playground/0_myown_tips_tricks/output/3ult_cleaned.pdb'\n",
    "\n",
    "structure = Bio.PDB.PDBParser(QUIET=True).get_structure('protein', pdb_file_path)\n",
    "ppb = Bio.PDB.PPBuilder()\n",
    "sequence = \"\".join(str(pp.get_sequence()) for pp in ppb.build_peptides(structure))\n",
    "if not sequence:\n",
    "    print(f\"No valid sequence in {pdb_file_path}. Skipping.\")\n",
    "else:\n",
    "    print(sequence)"
   ]
  },
  {
   "cell_type": "code",
   "execution_count": 24,
   "metadata": {},
   "outputs": [
    {
     "name": "stdout",
     "output_type": "stream",
     "text": [
      "{'3ult.pdb': 'PNTISGSNNTVRSGSKNVLAGNDNTVISGDNNSVSGSNNTVVSGNDNTVTGSNHVVSGTNHIVTDNNNNVSGNDNNVSGSFHTVSGGHNTVSGSNNTVSGSNHVVSGSNKVVTD'}\n"
     ]
    }
   ],
   "source": [
    "#Sometimes you want to output all the fasta from the same folder into dictionary\n",
    "input_pdb_folder = \"/home/eva/0_bury_charged_pair/0_Biopython_playground/0_myown_tips_tricks/input\" \n",
    "fasta_list = {}\n",
    "for file_name in listdir(input_pdb_folder):\n",
    "    if file_name.endswith(\".pdb\"):\n",
    "        input_path = join(input_folder, file_name)\n",
    "        fasta_list[file_name] = parse_pdb_sequence(input_path)\n",
    "print(fasta_list)"
   ]
  },
  {
   "cell_type": "code",
   "execution_count": null,
   "metadata": {},
   "outputs": [
    {
     "name": "stdout",
     "output_type": "stream",
     "text": [
      "┌──────────────────────────────────────────────────────────────────────────────┐\n",
      "│                                 PyRosetta-4                                  │\n",
      "│              Created in JHU by Sergey Lyskov and PyRosetta Team              │\n",
      "│              (C) Copyright Rosetta Commons Member Institutions               │\n",
      "│                                                                              │\n",
      "│ NOTE: USE OF PyRosetta FOR COMMERCIAL PURPOSES REQUIRE PURCHASE OF A LICENSE │\n",
      "│         See LICENSE.PyRosetta.md or email license@uw.edu for details         │\n",
      "└──────────────────────────────────────────────────────────────────────────────┘\n",
      "PyRosetta-4 2024 [Rosetta PyRosetta4.conda.ubuntu.cxx11thread.serialization.Ubuntu.python311.Release 2024.42+release.3366cf78a3df04339d1982e94531b77b098ddb99 2024-10-11T08:24:04] retrieved from: http://www.pyrosetta.org\n",
      "core.init: Checking for fconfig files in pwd and ./rosetta/flags\n",
      "core.init: Rosetta version: PyRosetta4.conda.ubuntu.cxx11thread.serialization.Ubuntu.python311.Release r388 2024.42+release.3366cf78a3 3366cf78a3df04339d1982e94531b77b098ddb99 http://www.pyrosetta.org 2024-10-11T08:24:04\n",
      "core.init: Rosetta extras: [cxx11thread, serialization]\n",
      "core.init: command: PyRosetta --ex1 --ex2 -database /home/eva/miniconda3/envs/getcontact/lib/python3.11/site-packages/pyrosetta/database\n",
      "basic.random.init_random_generator: 'RNG device' seed mode, using '/dev/urandom', seed=-482952916 seed_offset=0 real_seed=-482952916 thread_index=0\n",
      "basic.random.init_random_generator: RandomGenerator:init: Normal mode, seed=-482952916 RG_type=mt19937\n"
     ]
    },
    {
     "name": "stdout",
     "output_type": "stream",
     "text": [
      "core.import_pose.import_pose: File '/home/eva/0_bury_charged_pair/0_Biopython_playground/0_myown_tips_tricks/output/3ult_cleaned.pdb' automatically determined to be of type PDB\n",
      "core.conformation.Conformation: [ WARNING ] missing heavyatom:  OXT on residue ASP:CtermProteinFull 114\n",
      "core.chemical.AtomICoor: [ WARNING ] IcoorAtomID::atom_id(): Cannot get atom_id for POLYMER_LOWER of residue GLU 1.  Returning BOGUS ID instead.\n",
      "core.conformation.Residue: [ WARNING ] missing an atom: 1  H   that depends on a nonexistent polymer connection!\n",
      "core.conformation.Residue: [ WARNING ]  --> generating it using idealized coordinates.\n",
      "core.scoring.ScoreFunctionFactory: SCOREFUNCTION: ref2015\n",
      "core.pack.task: Packer task: initialize from command line()\n",
      "core.pack.pack_rotamers: built 7598 rotamers at 114 positions.\n",
      "core.pack.pack_rotamers: Requesting all available threads for interaction graph computation.\n",
      "core.pack.interaction_graph.interaction_graph_factory: Instantiating DensePDInteractionGraph\n",
      "core.pack.rotamer_set.RotamerSets: Completed interaction graph pre-calculation in 1 available threads (1 had been requested).\n"
     ]
    }
   ],
   "source": [
    "#If you want to repack the protein sequence\n",
    "import pyrosetta # type: ignore\n",
    "pyrosetta.init(\"--ex1 --ex2\")\n",
    "def one_letter_to_three(letter):\n",
    "    one_to_three = {\n",
    "        'A': 'ALA', 'R': 'ARG', 'N': 'ASN', 'D': 'ASP', 'C': 'CYS',\n",
    "        'Q': 'GLN', 'E': 'GLU', 'G': 'GLY', 'H': 'HIS', 'I': 'ILE',\n",
    "        'L': 'LEU', 'K': 'LYS', 'M': 'MET', 'F': 'PHE', 'P': 'PRO',\n",
    "        'S': 'SER', 'T': 'THR', 'W': 'TRP', 'Y': 'TYR', 'V': 'VAL'\n",
    "    }\n",
    "    return one_to_three.get(letter)\n",
    "\n",
    "def modify_protein_sequence(input_pdb: str, output_pdb: str, input_sequence: str) -> None:\n",
    "    # Initialize PyRosetta\n",
    "    #pyrosetta.init(\"--ex1 --ex2\")\n",
    "    \n",
    "    # Load the pose from the PDB file\n",
    "    pose = pyrosetta.pose_from_file(input_pdb)\n",
    "    \n",
    "    # Check if the input sequence length matches the total residues in the PDB file\n",
    "    if len(input_sequence) != pose.total_residue():\n",
    "        print(\"pose total residue\", pose.total_residue())\n",
    "        raise ValueError(\"Input sequence length does not match the number of residues in the PDB file.\")\n",
    "    \n",
    "    # Map the input sequence to the PDB structure\n",
    "    for resi in range(1, pose.total_residue() + 1):\n",
    "        # Get the target residue type from the input sequence\n",
    "        target_residue = input_sequence[resi - 1]\n",
    "        # Convert the one-letter code to three-letter code\n",
    "        target_residue_3letter = one_letter_to_three(target_residue)\n",
    "        \n",
    "        # Only mutate if the target residue is different from the current residue\n",
    "        if pose.residue(resi).name1() != target_residue:\n",
    "            pose.replace_residue(\n",
    "                resi, \n",
    "                pyrosetta.rosetta.core.conformation.ResidueFactory.create_residue(\n",
    "                    pose.residue_type_set_for_pose().name_map(target_residue_3letter)\n",
    "                ), \n",
    "                True\n",
    "            )\n",
    "    \n",
    "    # Repack the structure\n",
    "    scorefxn = pyrosetta.rosetta.core.scoring.get_score_function()\n",
    "    pack_mover = pyrosetta.rosetta.protocols.minimization_packing.PackRotamersMover(scorefxn)\n",
    "    tf = pyrosetta.rosetta.core.pack.task.TaskFactory()\n",
    "    tf.push_back(pyrosetta.rosetta.core.pack.task.operation.InitializeFromCommandline())\n",
    "    tf.push_back(pyrosetta.rosetta.core.pack.task.operation.RestrictToRepacking())\n",
    "    pack_mover.task_factory(tf)\n",
    "    pack_mover.apply(pose)\n",
    "    \n",
    "    # Dump the modified pose to the defined file\n",
    "    pose.dump_pdb(output_pdb)\n",
    "\n",
    "\n",
    "# Example usage\n",
    "dammy_seq = 'EVE'*1 + \"V\"*9 + 'E'*90 + 'V'*8 + 'EVEE'*1\n",
    "input_pdb = '/home/eva/0_bury_charged_pair/0_Biopython_playground/0_myown_tips_tricks/output/3ult_cleaned.pdb'\n",
    "output_pdb = '/home/eva/0_bury_charged_pair/0_Biopython_playground/0_myown_tips_tricks/output/3ult_cleaned_VE.pdb'\n",
    "input_sequence = dammy_seq  # Replace with the actual input sequence\n",
    "modify_protein_sequence(input_pdb, output_pdb, input_sequence)"
   ]
  }
 ],
 "metadata": {
  "kernelspec": {
   "display_name": "getcontact",
   "language": "python",
   "name": "python3"
  },
  "language_info": {
   "codemirror_mode": {
    "name": "ipython",
    "version": 3
   },
   "file_extension": ".py",
   "mimetype": "text/x-python",
   "name": "python",
   "nbconvert_exporter": "python",
   "pygments_lexer": "ipython3",
   "version": "3.11.8"
  }
 },
 "nbformat": 4,
 "nbformat_minor": 2
}
