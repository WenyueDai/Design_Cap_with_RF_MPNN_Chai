{
 "cells": [
  {
   "cell_type": "code",
   "execution_count": null,
   "metadata": {},
   "outputs": [],
   "source": [
    "import os\n",
    "import random\n",
    "import pymol\n",
    "from pymol import cmd\n",
    "\n",
    "\"\"\"This is the script I use after step2_filter_s2_move.py, to randomly select 10 pdb structure and generate pse file to look for a give pdb folder path\n",
    "\"\"\"\n",
    "\n",
    "def select_and_save_pse(folder_path, pse_name=\"combined_pdbs.pse\"):\n",
    "    # Check if the provided folder path exists\n",
    "    if not os.path.isdir(folder_path):\n",
    "        print(f\"The folder path '{folder_path}' does not exist.\")\n",
    "        return\n",
    "\n",
    "    # List all PDB files in the folder\n",
    "    pdb_files = [f for f in os.listdir(folder_path) if f.endswith('.pdb')]\n",
    "    if len(pdb_files) < 10:\n",
    "        print(\"Not enough PDB files in the folder to select 10. Please add more PDB files.\")\n",
    "        return\n",
    "\n",
    "    # Randomly select 10 PDB files\n",
    "    selected_pdb_files = random.sample(pdb_files, 10)\n",
    "    print(\"Selected PDB files:\", selected_pdb_files)\n",
    "\n",
    "    # Start PyMOL in command-line mode\n",
    "    pymol.finish_launching([\"pymol\", \"-cq\"])\n",
    "\n",
    "    # Load each selected PDB file into PyMOL\n",
    "    for pdb_file in selected_pdb_files:\n",
    "        pdb_path = os.path.join(folder_path, pdb_file)\n",
    "        cmd.load(pdb_path)\n",
    "\n",
    "    # Save the session as a .pse file\n",
    "    cmd.save(os.path.join(folder_path, pse_name))\n",
    "    print(f\"Saved PyMOL session as '{pse_name}' in '{folder_path}'.\")\n",
    "\n",
    "    # Quit PyMOL session\n",
    "    cmd.quit()\n",
    "\n",
    "# Example usage:\n",
    "folder_path = \"/home/eva/0_bury_charged_pair/5_Pipeline/20241101_rfdiffusion_m8/1_cap_calculation/11_15_N_cap\"  # Replace with your folder path\n",
    "select_and_save_pse(folder_path)\n"
   ]
  },
  {
   "cell_type": "code",
   "execution_count": 3,
   "metadata": {},
   "outputs": [],
   "source": [
    "#If you simply want to load everything from a given folder to pymol\n",
    "import os\n",
    "import pymol\n",
    "from pymol import cmd\n",
    "\n",
    "# Start PyMOL in command-line mode\n",
    "pymol.finish_launching([\"pymol\", \"-cq\"])\n",
    "\n",
    "folder_path_name = \"/home/eva/0_bury_charged_pair/0_Biopython_playground/0_myown_tips_tricks/RFdiffusion/pdb\"\n",
    "pdb_file_name = [f for f in os.listdir(folder_path_name)]\n",
    "for file in pdb_file_name:\n",
    "    pdb_path_name = os.path.join(folder_path_name, file)\n",
    "    cmd.load(pdb_path_name)\n",
    "# Save the session as a .pse file\n",
    "cmd.save(os.path.join(folder_path_name, \"combined_pdb.pse\"))\n",
    "cmd.quit()"
   ]
  }
 ],
 "metadata": {
  "kernelspec": {
   "display_name": "getcontact",
   "language": "python",
   "name": "python3"
  },
  "language_info": {
   "codemirror_mode": {
    "name": "ipython",
    "version": 3
   },
   "file_extension": ".py",
   "mimetype": "text/x-python",
   "name": "python",
   "nbconvert_exporter": "python",
   "pygments_lexer": "ipython3",
   "version": "3.11.8"
  }
 },
 "nbformat": 4,
 "nbformat_minor": 2
}
