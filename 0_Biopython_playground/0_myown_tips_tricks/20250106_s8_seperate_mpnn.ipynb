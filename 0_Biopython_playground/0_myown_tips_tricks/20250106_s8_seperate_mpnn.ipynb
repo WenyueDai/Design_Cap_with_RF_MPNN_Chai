{
 "cells": [
  {
   "cell_type": "code",
   "execution_count": 5,
   "metadata": {
    "vscode": {
     "languageId": "shellscript"
    }
   },
   "outputs": [
    {
     "name": "stdout",
     "output_type": "stream",
     "text": [
      "FASTA extraction complete. Files saved in /home/eva/0_bury_charged_pair/0_Biopython_playground/0_myown_tips_tricks/mpnn_C_cap/\n"
     ]
    }
   ],
   "source": [
    "%%bash\n",
    "\n",
    "# Input: Folder containing FASTA files\n",
    "input_folder=\"/home/eva/0_bury_charged_pair/0_Biopython_playground/0_myown_tips_tricks/RFdiffusion/1_cap_calculation/C_cap_add_3ultback/mpnn/seqs\"\n",
    "\n",
    "# Check if folder was provided\n",
    "if [ -z \"$input_folder\" ]; then\n",
    "  echo \"Usage: $0 <input_folder>\"\n",
    "  exit 1\n",
    "fi\n",
    "\n",
    "# Create output directory if it doesn't exist\n",
    "output_dir=\"/home/eva/0_bury_charged_pair/0_Biopython_playground/0_myown_tips_tricks/mpnn_C_cap\"\n",
    "mkdir -p \"$output_dir\"\n",
    "\n",
    "# Loop through each FASTA file in the input folder\n",
    "for parent_fasta in \"$input_folder\"/*.fa; do\n",
    "\n",
    "  # Extract the base name of the parent FASTA (without the extension)\n",
    "  base_name=$(basename \"$parent_fasta\" .fasta)\n",
    "\n",
    "  # Initialize sample number counter\n",
    "  sample_num=0\n",
    "\n",
    "  # Read the parent FASTA file line by line\n",
    "  while IFS= read -r line; do\n",
    "    # Check if the line is a header (starts with '>')\n",
    "    if [[ $line == \">\"* ]]; then\n",
    "      # Extract sample number and global score from the header line\n",
    "      sample_num=$(echo \"$line\" | grep -oP 'sample=\\K\\d+' || echo \"$sample_num\")\n",
    "      global_score=$(echo \"$line\" | grep -oP 'global_score=\\K[\\d\\.]+' || echo \"unknown\")\n",
    "\n",
    "      # Prepare the new header in the required format\n",
    "      new_header=\">sample=${sample_num}_global_score=${global_score}\"\n",
    "\n",
    "      # Create a new FASTA file for this sample\n",
    "      output_file=\"${output_dir}/${base_name}_sample${sample_num}.fasta\"\n",
    "      echo \"$new_header\" > \"$output_file\"\n",
    "    else\n",
    "      # If it's a sequence line, append it to the current output file\n",
    "      echo \"$line\" >> \"$output_file\"\n",
    "    fi\n",
    "  done < \"$parent_fasta\"\n",
    "\n",
    "done\n",
    "# Remove files containing \"sample0\" in the name from the output directory\n",
    "find \"$output_dir\" -type f -name \"*sample0*.fasta\" -delete\n",
    "echo \"FASTA extraction complete. Files saved in $output_dir/\"\n"
   ]
  },
  {
   "cell_type": "code",
   "execution_count": null,
   "metadata": {},
   "outputs": [],
   "source": []
  }
 ],
 "metadata": {
  "kernelspec": {
   "display_name": "getcontact",
   "language": "python",
   "name": "python3"
  },
  "language_info": {
   "codemirror_mode": {
    "name": "ipython",
    "version": 3
   },
   "file_extension": ".py",
   "mimetype": "text/x-python",
   "name": "python",
   "nbconvert_exporter": "python",
   "pygments_lexer": "ipython3",
   "version": "3.11.8"
  }
 },
 "nbformat": 4,
 "nbformat_minor": 2
}
