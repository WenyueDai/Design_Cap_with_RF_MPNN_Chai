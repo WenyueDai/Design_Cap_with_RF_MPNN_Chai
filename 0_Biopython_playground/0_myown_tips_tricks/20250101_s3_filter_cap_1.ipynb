{
 "cells": [
  {
   "cell_type": "code",
   "execution_count": 2,
   "metadata": {},
   "outputs": [
    {
     "name": "stderr",
     "output_type": "stream",
     "text": [
      "/home/eva/miniconda3/envs/getcontact/lib/python3.11/site-packages/tqdm/auto.py:21: TqdmWarning: IProgress not found. Please update jupyter and ipywidgets. See https://ipywidgets.readthedocs.io/en/stable/user_install.html\n",
      "  from .autonotebook import tqdm as notebook_tqdm\n"
     ]
    }
   ],
   "source": [
    "#conda activate getcontact\n",
    "import os\n",
    "import numpy as np\n",
    "import matplotlib.pyplot as plt\n",
    "from MDAnalysis import Universe\n",
    "from MDAnalysis.analysis import rms\n",
    "import warnings\n",
    "import Bio.PDB\n",
    "from scipy.stats import gaussian_kde"
   ]
  },
  {
   "cell_type": "markdown",
   "metadata": {},
   "source": [
    "After RFdiffusion, there are some unsatisfied cap.These cap include the ones that are far away \n",
    "from the main body in terms of either distance or angle, or are topologically similar with the soleonoid (small RMSD). \n",
    "\n",
    "This script will generate images for histogram of distance, rmsd and angle. And generate the 2D plot for each of\n",
    "the two elements. Based on these image, we should set up the filter criteria."
   ]
  },
  {
   "cell_type": "code",
   "execution_count": 3,
   "metadata": {},
   "outputs": [],
   "source": [
    "# Function to determine glycine-based N cap and C cap lengths\n",
    "def determine_glycine_caps(sequence):\n",
    "    n_cap_len, c_cap_len = 0, 0\n",
    "    for i, res in enumerate(sequence):\n",
    "        if res == 'G':\n",
    "            n_cap_len += 1\n",
    "        else:\n",
    "            break\n",
    "    for i in range(len(sequence) - 1, -1, -1):\n",
    "        if sequence[i] == 'G':\n",
    "            c_cap_len += 1\n",
    "        else:\n",
    "            break\n",
    "    return n_cap_len, c_cap_len"
   ]
  },
  {
   "cell_type": "code",
   "execution_count": 4,
   "metadata": {},
   "outputs": [],
   "source": [
    "# Distance and angle calculations\n",
    "def calculate_angle(point_a, point_b, point_c):\n",
    "    vec_a = point_a - point_b\n",
    "    vec_c = point_c - point_b\n",
    "    cosine_angle = np.dot(vec_a, vec_c) / (np.linalg.norm(vec_a) * np.linalg.norm(vec_c))\n",
    "    angle = np.degrees(np.arccos(np.clip(cosine_angle, -1.0, 1.0)))\n",
    "    return angle"
   ]
  },
  {
   "cell_type": "code",
   "execution_count": 5,
   "metadata": {},
   "outputs": [
    {
     "name": "stdout",
     "output_type": "stream",
     "text": [
      "[{'pdb_file': '/home/eva/0_bury_charged_pair/0_Biopython_playground/0_myown_tips_tricks/RFdiffusion/pdb/3ult_cropNT_001_cropCT_114_extendlen_025_cycle_01_0.pdb', 'n_cap_rmsd': 8.024847689386007, 'n_cap_distance': 20.118223169342045, 'n_cap_angle': 23.681194085257555, 'c_cap_rmsd': 6.748709258241344, 'c_cap_distance': 25.516951143305707, 'c_cap_angle': 19.024410753527256}]\n"
     ]
    },
    {
     "name": "stderr",
     "output_type": "stream",
     "text": [
      "/home/eva/miniconda3/envs/getcontact/lib/python3.11/site-packages/MDAnalysis/analysis/base.py:447: UserWarning: Reader has no dt information, set to 1.0 ps\n",
      "  self.times[i] = ts.time\n",
      "/home/eva/miniconda3/envs/getcontact/lib/python3.11/site-packages/MDAnalysis/coordinates/base.py:754: UserWarning: Reader has no dt information, set to 1.0 ps\n",
      "  return self.ts.time\n"
     ]
    }
   ],
   "source": [
    "# Function to calculate RMSD, distance, and angle for N and C caps\n",
    "# Bio.PDB is used to extract sequence\n",
    "# MDanalysis is to extract structure motif and rmsd\n",
    "def calculate_cap_parameters(pdb_file):\n",
    "    # Function to calculate RMSD, distance, and angle for N and C caps\n",
    "    # Output protein sequence (method by directly reading from pdb file see 20241226_clean_pdb_sequence_pyrosetta_repack.ipynb)\n",
    "    structure = Bio.PDB.PDBParser(QUIET=True).get_structure('protein', pdb_file)\n",
    "    ppb = Bio.PDB.PPBuilder()\n",
    "    sequence = \"\".join(str(pp.get_sequence()) for pp in ppb.build_peptides(structure))\n",
    "    if not sequence:\n",
    "        print(f\"No valid sequence in {pdb_file}. Skipping.\")\n",
    "        return None\n",
    "\n",
    "    n_cap_len, c_cap_len = determine_glycine_caps(sequence)\n",
    "    if n_cap_len == 0 or c_cap_len == 0:\n",
    "        print(f\"Skipping {pdb_file} due to insufficient N or C cap length.\")\n",
    "        return None\n",
    "\n",
    "    with warnings.catch_warnings():\n",
    "        warnings.simplefilter(\"ignore\", UserWarning)  # Suppress the dt warning in MDAnalysis\n",
    "        u = Universe(pdb_file)\n",
    "\n",
    "    # N cap and C cap atoms\n",
    "    n_cap = u.select_atoms(f\"resid 1:{n_cap_len}\")\n",
    "    c_cap = u.select_atoms(f\"resid {len(sequence) - c_cap_len + 1}:{len(sequence)}\")\n",
    "    main_body_n = u.select_atoms(f\"resid {n_cap_len + 1}:{n_cap_len * 2}\")\n",
    "    main_body_c = u.select_atoms(f\"resid {len(sequence) - 2 * c_cap_len + 1}:{len(sequence) - c_cap_len}\")\n",
    "\n",
    "    if len(n_cap) != len(main_body_n) or len(c_cap) != len(main_body_c):\n",
    "        return None\n",
    "\n",
    "    # RMSD calculations\n",
    "    rmsd_n_analysis = rms.RMSD(n_cap, main_body_n).run()\n",
    "    rmsd_c_analysis = rms.RMSD(c_cap, main_body_c).run()\n",
    "    rmsd_n = rmsd_n_analysis.results.rmsd[-1, 2]\n",
    "    rmsd_c = rmsd_c_analysis.results.rmsd[-1, 2]\n",
    "\n",
    "    # Calculate the distance and angle\n",
    "    n_cap_com = n_cap.center_of_mass()\n",
    "    c_cap_com = c_cap.center_of_mass()\n",
    "    center_line_com = (main_body_n.center_of_mass() + main_body_c.center_of_mass()) / 2.0\n",
    "    n_cap_distance = np.linalg.norm(n_cap_com - center_line_com)\n",
    "    c_cap_distance = np.linalg.norm(c_cap_com - center_line_com)\n",
    "    n_cap_angle = calculate_angle(n_cap_com, center_line_com, main_body_n.center_of_mass())\n",
    "    c_cap_angle = calculate_angle(c_cap_com, center_line_com, main_body_c.center_of_mass())\n",
    "\n",
    "    return {\n",
    "        'pdb_file': pdb_file,\n",
    "        'n_cap_rmsd': rmsd_n,\n",
    "        'n_cap_distance': n_cap_distance,\n",
    "        'n_cap_angle': n_cap_angle,\n",
    "        'c_cap_rmsd': rmsd_c,\n",
    "        'c_cap_distance': c_cap_distance,\n",
    "        'c_cap_angle': c_cap_angle\n",
    "    }\n",
    "\n",
    "\"\"\"\n",
    "input_folder = \"/home/eva/0_bury_charged_pair/0_Biopython_playground/0_myown_tips_tricks/RFdiffusion/pdb\"\n",
    "results = []\n",
    "for pdb_file in os.listdir(input_folder):\n",
    "    if pdb_file.endswith('.pdb'):\n",
    "        pdb_path = os.path.join(input_folder, pdb_file)\n",
    "        parameters = calculate_cap_parameters(pdb_path)\n",
    "        if parameters:\n",
    "            results.append(parameters)\n",
    "print(results)\n",
    "\"\"\"\n"
   ]
  },
  {
   "cell_type": "code",
   "execution_count": null,
   "metadata": {},
   "outputs": [],
   "source": [
    "# Function to save parameters to a text file\n",
    "def save_parameters_to_file(results, output_file):\n",
    "    with open(output_file, 'w') as f:\n",
    "        # Write header\n",
    "        f.write(\"PDB_File\\tN_Cap_RMSD\\tN_Cap_Distance\\tN_Cap_Angle\\tC_Cap_RMSD\\tC_Cap_Distance\\tC_Cap_Angle\\n\")\n",
    "        # Write each result line by line\n",
    "        for res in results:\n",
    "            f.write(f\"{res['pdb_file']}\\t{res['n_cap_rmsd']:.3f}\\t{res['n_cap_distance']:.3f}\\t{res['n_cap_angle']:.2f}\\t\"\n",
    "                    f\"{res['c_cap_rmsd']:.3f}\\t{res['c_cap_distance']:.3f}\\t{res['c_cap_angle']:.2f}\\n\")\n",
    "\n",
    "\"\"\"\n",
    "output_folder = \"/home/eva/0_bury_charged_pair/0_Biopython_playground/0_myown_tips_tricks/RFdiffusion/filter/\"\n",
    "parameter_file = os.path.join(output_folder, \"cap_parameters.txt\")\n",
    "save_parameters_to_file(results, parameter_file)\n",
    "\"\"\""
   ]
  },
  {
   "cell_type": "code",
   "execution_count": 8,
   "metadata": {},
   "outputs": [],
   "source": [
    "# Predefined bin counts based on parameter range\n",
    "bin_settings = {\n",
    "    'RMSD': 18,      # Adjust based on data range (0–20) and manual (increase if frequency>100, decrease if too many bin)\n",
    "    'Distance': 15,  # Adjust based on data range (0–30) and manual\n",
    "    'Angle': 18      # Adjust based on data range (0–60) and manual\n",
    "}"
   ]
  },
  {
   "cell_type": "code",
   "execution_count": 9,
   "metadata": {},
   "outputs": [],
   "source": [
    "# Function to plot individual histograms for each parameter with preset bins\n",
    "def plot_individual_histograms(data, title_prefix, output_folder):\n",
    "    parameters = ['RMSD', 'Distance', 'Angle']\n",
    "    axis_limits = {\n",
    "        'RMSD': (0, 20),\n",
    "        'Distance': (0, 30),\n",
    "        'Angle': (0, 60)\n",
    "    }\n",
    "    \n",
    "    for i, param in enumerate(parameters):\n",
    "        values = data[:, i]\n",
    "        \n",
    "        # Use fixed bin settings for consistency across histograms\n",
    "        n_bins = bin_settings[param]\n",
    "        \n",
    "        plt.figure(figsize=(10, 8))\n",
    "        plt.hist(values, bins=n_bins, color='orange')\n",
    "        plt.title(f\"{title_prefix} {param} Distribution\", pad=20)\n",
    "        plt.xlabel(param)\n",
    "        plt.ylabel(\"Frequency\")\n",
    "        \n",
    "        # Set axis limits\n",
    "        plt.xlim(axis_limits[param][0], axis_limits[param][1])\n",
    "        plt.ylim(0, 100)  # Cap frequency to ensure readability\n",
    "        \n",
    "        filename = f\"{title_prefix.lower()}_{param.lower()}_distribution.png\"\n",
    "        plt.savefig(os.path.join(output_folder, filename), bbox_inches='tight')\n",
    "        plt.close()"
   ]
  },
  {
   "cell_type": "code",
   "execution_count": 10,
   "metadata": {},
   "outputs": [],
   "source": [
    "# Function to plot pairwise parameter comparisons with density coloring and fixed axis limits\n",
    "def plot_pairwise_parameters(data, title_prefix, output_folder):\n",
    "    pairs = [\n",
    "        ('RMSD', 'Distance', data[:, 0], data[:, 1], (0, 20, 0, 30)),\n",
    "        ('RMSD', 'Angle', data[:, 0], data[:, 2], (0, 20, 0, 60)),\n",
    "        ('Distance', 'Angle', data[:, 1], data[:, 2], (0, 30, 0, 60))\n",
    "    ]\n",
    "    \n",
    "    for x_label, y_label, x, y, limits in pairs:\n",
    "        # Calculate density for coloring\n",
    "        xy = np.vstack([x, y])\n",
    "        density = gaussian_kde(xy)(xy)\n",
    "        \n",
    "        plt.figure(figsize=(10, 8))\n",
    "        scatter = plt.scatter(x, y, c=density, cmap='viridis', marker='o')\n",
    "        plt.xlabel(x_label)\n",
    "        plt.ylabel(y_label)\n",
    "        plt.title(f\"{title_prefix} {x_label} vs {y_label}\")\n",
    "        \n",
    "        # Set axis limits\n",
    "        plt.xlim(limits[0], limits[1])\n",
    "        plt.ylim(limits[2], limits[3])\n",
    "        \n",
    "        # Add color bar for density\n",
    "        cbar = plt.colorbar(scatter)\n",
    "        cbar.set_label('Density')\n",
    "        \n",
    "        # Save plot\n",
    "        filename = f\"{title_prefix.lower()}_{x_label.lower()}_vs_{y_label.lower()}.png\"\n",
    "        plt.savefig(os.path.join(output_folder, filename), bbox_inches='tight')\n",
    "        plt.close()"
   ]
  },
  {
   "cell_type": "code",
   "execution_count": 11,
   "metadata": {},
   "outputs": [],
   "source": [
    "# Main function for Script 1\n",
    "def calculate_caps_parameters(input_folder, output_folder, parameter_file):\n",
    "    results = []\n",
    "    for pdb_file in os.listdir(input_folder):\n",
    "        if pdb_file.endswith('.pdb'):\n",
    "            pdb_path = os.path.join(input_folder, pdb_file)\n",
    "            parameters = calculate_cap_parameters(pdb_path)\n",
    "            if parameters:\n",
    "                results.append(parameters)\n",
    "    \n",
    "    # Convert results to numpy arrays for easier plotting\n",
    "    n_cap_data = np.array([[r['n_cap_rmsd'], r['n_cap_distance'], r['n_cap_angle']] for r in results])\n",
    "    c_cap_data = np.array([[r['c_cap_rmsd'], r['c_cap_distance'], r['c_cap_angle']] for r in results])\n",
    "    \n",
    "    # Generate individual histograms for N Cap and C Cap data\n",
    "    plot_individual_histograms(n_cap_data, \"N Cap\", output_folder)\n",
    "    plot_individual_histograms(c_cap_data, \"C Cap\", output_folder)\n",
    "    \n",
    "    # Generate pairwise plots for N Cap and C Cap data\n",
    "    plot_pairwise_parameters(n_cap_data, \"N Cap\", output_folder)\n",
    "    plot_pairwise_parameters(c_cap_data, \"C Cap\", output_folder)\n",
    "    \n",
    "    # Save parameters to file for use in the second script\n",
    "    save_parameters_to_file(results, parameter_file)\n"
   ]
  },
  {
   "cell_type": "code",
   "execution_count": 13,
   "metadata": {},
   "outputs": [
    {
     "name": "stderr",
     "output_type": "stream",
     "text": [
      "/home/eva/miniconda3/envs/getcontact/lib/python3.11/site-packages/MDAnalysis/analysis/base.py:447: UserWarning: Reader has no dt information, set to 1.0 ps\n",
      "  self.times[i] = ts.time\n",
      "/home/eva/miniconda3/envs/getcontact/lib/python3.11/site-packages/MDAnalysis/coordinates/base.py:754: UserWarning: Reader has no dt information, set to 1.0 ps\n",
      "  return self.ts.time\n",
      "/home/eva/miniconda3/envs/getcontact/lib/python3.11/site-packages/MDAnalysis/analysis/base.py:447: UserWarning: Reader has no dt information, set to 1.0 ps\n",
      "  self.times[i] = ts.time\n",
      "/home/eva/miniconda3/envs/getcontact/lib/python3.11/site-packages/MDAnalysis/coordinates/base.py:754: UserWarning: Reader has no dt information, set to 1.0 ps\n",
      "  return self.ts.time\n",
      "/home/eva/miniconda3/envs/getcontact/lib/python3.11/site-packages/MDAnalysis/analysis/base.py:447: UserWarning: Reader has no dt information, set to 1.0 ps\n",
      "  self.times[i] = ts.time\n",
      "/home/eva/miniconda3/envs/getcontact/lib/python3.11/site-packages/MDAnalysis/coordinates/base.py:754: UserWarning: Reader has no dt information, set to 1.0 ps\n",
      "  return self.ts.time\n",
      "/home/eva/miniconda3/envs/getcontact/lib/python3.11/site-packages/MDAnalysis/analysis/base.py:447: UserWarning: Reader has no dt information, set to 1.0 ps\n",
      "  self.times[i] = ts.time\n",
      "/home/eva/miniconda3/envs/getcontact/lib/python3.11/site-packages/MDAnalysis/coordinates/base.py:754: UserWarning: Reader has no dt information, set to 1.0 ps\n",
      "  return self.ts.time\n",
      "/home/eva/miniconda3/envs/getcontact/lib/python3.11/site-packages/MDAnalysis/analysis/base.py:447: UserWarning: Reader has no dt information, set to 1.0 ps\n",
      "  self.times[i] = ts.time\n",
      "/home/eva/miniconda3/envs/getcontact/lib/python3.11/site-packages/MDAnalysis/coordinates/base.py:754: UserWarning: Reader has no dt information, set to 1.0 ps\n",
      "  return self.ts.time\n",
      "/home/eva/miniconda3/envs/getcontact/lib/python3.11/site-packages/MDAnalysis/analysis/base.py:447: UserWarning: Reader has no dt information, set to 1.0 ps\n",
      "  self.times[i] = ts.time\n",
      "/home/eva/miniconda3/envs/getcontact/lib/python3.11/site-packages/MDAnalysis/coordinates/base.py:754: UserWarning: Reader has no dt information, set to 1.0 ps\n",
      "  return self.ts.time\n",
      "/home/eva/miniconda3/envs/getcontact/lib/python3.11/site-packages/MDAnalysis/analysis/base.py:447: UserWarning: Reader has no dt information, set to 1.0 ps\n",
      "  self.times[i] = ts.time\n",
      "/home/eva/miniconda3/envs/getcontact/lib/python3.11/site-packages/MDAnalysis/coordinates/base.py:754: UserWarning: Reader has no dt information, set to 1.0 ps\n",
      "  return self.ts.time\n",
      "/home/eva/miniconda3/envs/getcontact/lib/python3.11/site-packages/MDAnalysis/analysis/base.py:447: UserWarning: Reader has no dt information, set to 1.0 ps\n",
      "  self.times[i] = ts.time\n",
      "/home/eva/miniconda3/envs/getcontact/lib/python3.11/site-packages/MDAnalysis/coordinates/base.py:754: UserWarning: Reader has no dt information, set to 1.0 ps\n",
      "  return self.ts.time\n",
      "/home/eva/miniconda3/envs/getcontact/lib/python3.11/site-packages/MDAnalysis/analysis/base.py:447: UserWarning: Reader has no dt information, set to 1.0 ps\n",
      "  self.times[i] = ts.time\n",
      "/home/eva/miniconda3/envs/getcontact/lib/python3.11/site-packages/MDAnalysis/coordinates/base.py:754: UserWarning: Reader has no dt information, set to 1.0 ps\n",
      "  return self.ts.time\n"
     ]
    }
   ],
   "source": [
    "# Example usage\n",
    "input_folder = \"/home/eva/0_bury_charged_pair/0_Biopython_playground/0_myown_tips_tricks/RFdiffusion/pdb\"\n",
    "output_folder = \"/home/eva/0_bury_charged_pair/0_Biopython_playground/0_myown_tips_tricks/RFdiffusion/filter\"\n",
    "os.makedirs(output_folder, exist_ok=True)\n",
    "parameter_file = os.path.join(output_folder, \"cap_parameters.txt\")\n",
    "calculate_caps_parameters(input_folder, output_folder, parameter_file)"
   ]
  },
  {
   "cell_type": "code",
   "execution_count": null,
   "metadata": {},
   "outputs": [],
   "source": []
  }
 ],
 "metadata": {
  "kernelspec": {
   "display_name": "getcontact",
   "language": "python",
   "name": "python3"
  },
  "language_info": {
   "codemirror_mode": {
    "name": "ipython",
    "version": 3
   },
   "file_extension": ".py",
   "mimetype": "text/x-python",
   "name": "python",
   "nbconvert_exporter": "python",
   "pygments_lexer": "ipython3",
   "version": "3.11.8"
  }
 },
 "nbformat": 4,
 "nbformat_minor": 2
}
