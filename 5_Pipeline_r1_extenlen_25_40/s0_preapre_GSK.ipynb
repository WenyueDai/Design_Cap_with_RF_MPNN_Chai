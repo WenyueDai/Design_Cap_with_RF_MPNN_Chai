{
 "cells": [
  {
   "cell_type": "code",
   "execution_count": 1,
   "metadata": {},
   "outputs": [
    {
     "name": "stdout",
     "output_type": "stream",
     "text": [
      "ALA\n",
      "ARG\n",
      "ASN\n",
      "ASP\n",
      "CYS\n",
      "GLN\n",
      "GLU\n",
      "GLY\n",
      "HIS\n",
      "ILE\n",
      "LEU\n",
      "LYS\n",
      "MET\n",
      "PHE\n",
      "PRO\n",
      "SER\n",
      "THR\n",
      "TRP\n",
      "TYR\n",
      "VAL\n",
      "A\n",
      "R\n",
      "N\n",
      "D\n",
      "C\n",
      "Q\n",
      "E\n",
      "G\n",
      "H\n",
      "I\n",
      "L\n",
      "K\n",
      "M\n",
      "F\n",
      "P\n",
      "S\n",
      "T\n",
      "W\n",
      "Y\n",
      "V\n",
      "ALA : A\n",
      "ARG : R\n",
      "ASN : N\n",
      "ASP : D\n",
      "CYS : C\n",
      "GLN : Q\n",
      "GLU : E\n",
      "GLY : G\n",
      "HIS : H\n",
      "ILE : I\n",
      "LEU : L\n",
      "LYS : K\n",
      "MET : M\n",
      "PHE : F\n",
      "PRO : P\n",
      "SER : S\n",
      "THR : T\n",
      "TRP : W\n",
      "TYR : Y\n",
      "VAL : V\n",
      "iteratool_test1 [(1, 'a'), (1, 'b'), (1, 'c'), (2, 'a'), (2, 'b'), (2, 'c'), (3, 'a'), (3, 'b'), (3, 'c')]\n",
      "iteratool_result2 [(1, 1), (1, 2), (1, 3), (2, 1), (2, 2), (2, 3), (3, 1), (3, 2), (3, 3)]\n"
     ]
    },
    {
     "name": "stderr",
     "output_type": "stream",
     "text": [
      "/tmp/ipykernel_580/319086334.py:59: DeprecationWarning: \n",
      "Pyarrow will become a required dependency of pandas in the next major release of pandas (pandas 3.0),\n",
      "(to allow more performant data types, such as the Arrow string type, and better interoperability with other libraries)\n",
      "but was not found to be installed on your system.\n",
      "If this would cause problems for you,\n",
      "please provide us feedback at https://github.com/pandas-dev/pandas/issues/54466\n",
      "        \n",
      "  import pandas as pd\n"
     ]
    }
   ],
   "source": [
    "three_to_one = {\n",
    "    'ALA': 'A', 'ARG': 'R', 'ASN': 'N', 'ASP': 'D', 'CYS': 'C',\n",
    "    'GLN': 'Q', 'GLU': 'E', 'GLY': 'G', 'HIS': 'H', 'ILE': 'I',\n",
    "    'LEU': 'L', 'LYS': 'K', 'MET': 'M', 'PHE': 'F', 'PRO': 'P',\n",
    "    'SER': 'S', 'THR': 'T', 'TRP': 'W', 'TYR': 'Y', 'VAL': 'V'\n",
    "}\n",
    "\n",
    "#Access value\n",
    "value = three_to_one.get(\"ALA\") # return A\n",
    "\n",
    "#Check if key exists\n",
    "exist = \"ALA\" in three_to_one #return ture\n",
    "\n",
    "#Iterate over key value, key and value\n",
    "for key in three_to_one.keys():\n",
    "    print(key)\n",
    "\n",
    "for value in three_to_one.values():\n",
    "    print(value)\n",
    "    \n",
    "for key, value in three_to_one.items():\n",
    "    print(key, \":\", value)\n",
    "    \n",
    "#Adding key, value pair:\n",
    "three_to_one[\"TET\"] = \"Z\"\n",
    "\n",
    "#Delete key value pair\n",
    "three_to_one.pop(\"SER\", None)#the second argument present error if SER is not found\n",
    "\n",
    "#Get the length of dictionary\n",
    "#length = len(three_to_one)\n",
    "\n",
    "#Copy a dictionary\n",
    "three_to_one_copy = three_to_one.copy()\n",
    "\n",
    "#Update dictionary\n",
    "extra_resi = {\"SEC\":\"U\", \"MER\":\"M\"}\n",
    "three_to_one.update(extra_resi)\n",
    "\n",
    "#Get a default value if key is missing\n",
    "value = three_to_one.get(\"UNK\", \"X\") #If UNK is not in dictionary, return X\n",
    "\n",
    "#Create a reverse dictionary\n",
    "one_to_three = {v:k for k, v in three_to_one.items()}\n",
    "\n",
    "import itertools\n",
    "#itertools.product(*iterables, repeat=1)\n",
    "# Cartersian product of two list\n",
    "list_1 = [1, 2, 3]\n",
    "tuple_1 = (\"a\", \"b\", \"c\")\n",
    "result = list(itertools.product(list_1, tuple_1))\n",
    "print(\"iteratool_test1\", result)\n",
    "\n",
    "# Cartersian product of a single list\n",
    "list_1 = [1, 2, 3]\n",
    "result = list(itertools.product(list_1, repeat=2))\n",
    "print(\"iteratool_result2\", result)\n",
    "\n",
    "import pandas as pd\n",
    "#dataframe: how to convert a list like [(1, \"a\"), (2, \"b\"), \"2, \"c)] into dataframe\n",
    "list_1 =  [(1, \"a\"), (2, \"b\"), (3, \"c\")]\n",
    "df = pd.DataFrame(list_1, columns=[\"number\", \"string\"])\n",
    "\"\"\"output\n",
    "number\tstring\n",
    "1\ta\n",
    "2\tb\n",
    "3\tc\n",
    "\"\"\"\n",
    "\n",
    "#lambda\n",
    "add = lambda x, y: x + y #add is like a funciton here, x, y are two arguments\n",
    "result = add(1, 2)\n",
    "\n",
    "#Use map with lambda, map take function, list\n",
    "#map takes a function and apply it to a list/tuple\n",
    "list_1 = [1, 2, 3, 4]\n",
    "multiple_for_all = list(map(lambda x:x*2, list_1))\n",
    "\n",
    "#Use filter with lambda, filter filter out element based on whether return is True of False\n",
    "list_1 = [1, 2, 3, 4]\n",
    "final_list = list(filter(lambda x:x%2 == 0, list_1))\n",
    "\n",
    "#Use filter to filter out empty string\n",
    "words = [\"hello\", \"\", \"world\", \"\", \"python\"]\n",
    "update_word = list(filter(lambda x: x !=\"\", words))\n",
    "\n"
   ]
  },
  {
   "cell_type": "code",
   "execution_count": null,
   "metadata": {},
   "outputs": [],
   "source": [
    "import pandas as pd\n",
    "data = {\n",
    "    'Name': ['Alice', 'Bob', 'Charlie'],\n",
    "    'Age': [24, 27, 22],\n",
    "    'City': ['New York', 'Los Angeles', 'Chicago']\n",
    "}\n",
    "df = pd.DataFrame(data)\n",
    "print(df)\n",
    "\n",
    "#If you have a data in list in list form or tuple in list form\n",
    "data2 = [\n",
    "    ['Alice', 24, 'New York'],\n",
    "    ['Bob', 27, 'Los Angeles'],\n",
    "    ['Charlie', 22, 'Chicago']\n",
    "]\n",
    "df2 = pd.DataFrame(data2, columns=[\"name\", \"age\", \"city\"])\n",
    "print(\"df2\", df)\n",
    "\n",
    "print(\"df_head\", df2.head())\n",
    "print(\"df_shape\", df2.shape)\n",
    "print(\"df_info\", df.info())\n",
    "print(\"df_describe\", df.describe)"
   ]
  },
  {
   "cell_type": "code",
   "execution_count": null,
   "metadata": {},
   "outputs": [],
   "source": [
    "#If you have a data in list in list form or tuple in list form\n",
    "data2 = [\n",
    "    ['Alice', 24, 'New York'],\n",
    "    ['Bob', 27, 'Los Angeles'],\n",
    "    ['Charlie', 22, 'Chicago']\n",
    "]\n",
    "df2 = pd.DataFrame(data2, columns=[\"name\", \"age\", \"city\"])\n",
    "age = df2[\"age\"]\n",
    "age_city = df2[[\"age\", \"city\"]]\n",
    "print(age_city)"
   ]
  },
  {
   "cell_type": "code",
   "execution_count": null,
   "metadata": {},
   "outputs": [],
   "source": [
    "import numpy as np\n",
    "array_test = np.array([1, 2, 3, 4, 5])\n",
    "print(array_test[1:])"
   ]
  },
  {
   "cell_type": "code",
   "execution_count": 2,
   "metadata": {},
   "outputs": [
    {
     "name": "stdout",
     "output_type": "stream",
     "text": [
      "[5, 10, 15, 20, 25]\n",
      "[1, 2, 3, 4, 5, 1, 2, 3, 4, 5, 1, 2, 3, 4, 5, 1, 2, 3, 4, 5, 1, 2, 3, 4, 5]\n",
      "[ 5 10 15 20 25]\n"
     ]
    }
   ],
   "source": [
    "import numpy as np\n",
    "l1 = [1,2,3,4,5]\n",
    "amplify = list(map(lambda x:x*5,l1))\n",
    "print(amplify)\n",
    "\n",
    "print(l1*5)\n",
    "np_1 = np.array(l1)\n",
    "print(np_1*5)"
   ]
  },
  {
   "cell_type": "code",
   "execution_count": null,
   "metadata": {},
   "outputs": [],
   "source": []
  },
  {
   "cell_type": "code",
   "execution_count": 6,
   "metadata": {},
   "outputs": [
    {
     "name": "stdout",
     "output_type": "stream",
     "text": [
      "Aggregation motifs: ['WYW', 'YYYY', 'FFY']\n",
      "Deamidation motifs: ['NG', 'NS', 'NT']\n",
      "location [3]\n"
     ]
    }
   ],
   "source": [
    "\n",
    "#Example \n",
    "# Dictionary of antibody liabilities with example sequence motifs\n",
    "antibody_liabilities = {\n",
    "    'Aggregation': [\n",
    "        'WYW',  # Tryptophan-tyrosine-tryptophan motif associated with hydrophobicity\n",
    "        'YYYY',  # Tyrosine clusters can increase hydrophobic interaction and aggregation\n",
    "        'FFY',   # Phenylalanine-tyrosine motif may cause aggregation under stress\n",
    "    ],\n",
    "    'Deamidation': [\n",
    "        'NG',  # Asparagine-glycine, where asparagine is prone to deamidation\n",
    "        'NS',  # Asparagine-serine, common site for deamidation\n",
    "        'NT',  # Asparagine-threonine, prone to deamidation in antibodies\n",
    "    ],\n",
    "    'Oxidation': [\n",
    "        'M',  # Methionine residues are susceptible to oxidation\n",
    "        'WC',  # Tryptophan-cysteine, both residues can be oxidized, especially in complementarity-determining regions (CDRs)\n",
    "        'YY',  # Tyrosine-tyrosine motif prone to oxidation\n",
    "    ],\n",
    "    'Cleavage Sites': [\n",
    "        'DP',  # Aspartate-proline motif prone to cleavage\n",
    "        'DG',  # Aspartate-glycine, another cleavage-prone site\n",
    "        'AEF', # Sequence found in antibodies prone to protease cleavage\n",
    "    ],\n",
    "    'Isomerization': [\n",
    "        'DGG',  # Aspartate-glycine-glycine, where aspartate can isomerize\n",
    "        'NGG',  # Asparagine-glycine-glycine, with potential asparagine isomerization\n",
    "        'D',    # Aspartate alone can isomerize to isoaspartate, especially in CDR regions\n",
    "    ],\n",
    "    'Immunogenicity': [\n",
    "        'RYYR',  # Motif that can cause T-cell recognition\n",
    "        'GVG',   # Common sequence associated with immunogenicity in some antibodies\n",
    "        'LVGL',  # A leucine-valine-glycine-leucine motif often checked for immunogenic risk\n",
    "    ],\n",
    "    'Disulfide Mis-pairing': [\n",
    "        'CXC',  # Cysteine-X-cysteine, prone to incorrect disulfide bonding\n",
    "        'CC',   # Cysteine-cysteine, can lead to disulfide scrambling\n",
    "        'SC',   # Serine-cysteine, can affect correct folding of antibodies\n",
    "    ],\n",
    "    'Charge Clusters': [\n",
    "        'RRRR',  # Arginine clusters can cause high positive charge, leading to solubility issues\n",
    "        'EEEE',  # Glutamate clusters can introduce negative charge, affecting stability\n",
    "        'KK',    # Lysine clusters, which may affect isoelectric point and solubility\n",
    "    ],\n",
    "    'Hydrophobic Patches': [\n",
    "        'FVW',  # Phenylalanine-valine-tryptophan, a hydrophobic patch that can lead to aggregation\n",
    "        'ALY',  # Alanine-leucine-tyrosine, a common hydrophobic motif\n",
    "        'VLVI', # Valine-leucine-valine-isoleucine, forming a hydrophobic surface\n",
    "    ],\n",
    "}\n",
    "\n",
    "\n",
    "# Example of accessing a liability type and its motifs\n",
    "print(\"Aggregation motifs:\", antibody_liabilities['Aggregation'])\n",
    "print(\"Deamidation motifs:\", antibody_liabilities['Deamidation'])\n",
    "\n",
    "protein_sequence = \"PNTISGSNTVRSGSKNVLAGNDNTVISGDNSVSGSNTVSGNDNTVTGSNHVSGTNHIVTDNVSGNDNVSGSFHTVSGHNTVSGSNTVSGSNHVSGSNKVTD\"\n",
    "\n",
    "#find can find a motif from a given starting positin, if there is nothing find, return -1\n",
    "#Question1: I want to find the index where TISG appear\n",
    "start = 0 #Start from 0\n",
    "location = [] #Store index where motif is found\n",
    "while True: #Loop until a break\n",
    "    index = protein_sequence.find(\"TISG\", start) #return the index where the motif is found\n",
    "    location.append(index + 1) #location of where the motif is found +1\n",
    "    start = index + 1 #start from the next value of the location where motif is found\n",
    "    if index == -1:#if it is the last value\n",
    "        break\n",
    "location.pop() #delete the last value from location list, which will be 0 (-1+1)\n",
    "print(\"location\", location)\n",
    "\n",
    "#Question 2: If you find motif TISG, replace it with TING\n",
    "protein_sequence = protein_sequence.replace(\"TISG\", \"TING\")\n",
    "\n",
    "#Question 3: I will provide you a string with align with protein sequence\n",
    "# The two string can align which each other, find me the ND when it is solvent exposed (1) and return me the residue index\n",
    "protein_sequence = \"PNTISGSNTVRSGSKNVLAGNDNTVISGDNSVSGSNTVSGNDNTVTGSNHVSGTNHIVTDNVSGNDNVSGSFHTVSGHNTVSGSNTVSGSNHVSGSNKVTD\"\n",
    "solvent_exposure = \"00000000000000000000000000000010000000111110001111100000101000000100000101110001000100000000000000000\"\n",
    "\n",
    "exposed_nd_index = []\n",
    "for i in range(len(protein_sequence)-1):\n",
    "    if protein_sequence[i:i+2] == \"ND\" and solvent_exposure[i] == \"1\":\n",
    "        exposed_nd_index.append(i+1)\n",
    "\n",
    "#Question4: I will provide you a string with score of immunogenicity. Tell me which one is more hazardous\n",
    "protein_sequence = \"89570000383748494783489209289279402923847891900238934747192010837478349021093784746934873477129892093\"\n",
    "solvent_exposure = \"00000000000000000000000000000010000000111110001111100000101000000100000101110001000100000000000000000\"\n",
    "\n",
    "protein_sequence_array = np.array(list(protein_sequence), dtype=int)\n",
    "solvent_exposure_array = np.array(list(solvent_exposure), dtype=int)\n",
    "multiple = protein_sequence_array*solvent_exposure_array\n",
    "max_index = np.argmax(multiple) #output the index of the max value\n",
    "max_value = multiple[max_index] #output the value of the index\n",
    "                "
   ]
  },
  {
   "cell_type": "code",
   "execution_count": 5,
   "metadata": {},
   "outputs": [
    {
     "name": "stdout",
     "output_type": "stream",
     "text": [
      "TGH\n",
      "['TGH', 'TGH']\n",
      "Pattern found at position from 2 to 5\n",
      "Pattern found at position from 8 to 11\n"
     ]
    }
   ],
   "source": [
    "import re\n",
    "sequence = \"MKTGHPEPTGHYL\"\n",
    "pattern = r\"TGH\" #r takes the string as it is, so r\"TGH\\n\" is not a new line\n",
    "match = re.search(pattern, sequence)\n",
    "print(match.group()) #output is TGH\n",
    "\n",
    "match = re.findall(pattern, sequence)\n",
    "print(match)\n",
    "\n",
    "for match1 in re.finditer(pattern, sequence):\n",
    "    print(f\"Pattern found at position from {match1.start()} to {match1.end()}\")\n"
   ]
  },
  {
   "cell_type": "code",
   "execution_count": 7,
   "metadata": {},
   "outputs": [
    {
     "name": "stdout",
     "output_type": "stream",
     "text": [
      "Found the match start at 1\n"
     ]
    }
   ],
   "source": [
    "import re\n",
    "# Sample protein sequence\n",
    "sequence = \"MRLVRAKRRYAQRLTNR\"\n",
    "\n",
    "# Define the pattern: 'R' followed by any two amino acids (..) and then another 'R'\n",
    "pattern = r\"R..R\"\n",
    "\n",
    "match = re.findall(pattern, sequence)\n",
    "for match in re.finditer(pattern, sequence):\n",
    "    print(f\"Found the match start at {match.start()}\")"
   ]
  },
  {
   "cell_type": "code",
   "execution_count": null,
   "metadata": {},
   "outputs": [],
   "source": [
    "import re\n",
    "text = \"Call us at 123-4567 or 123-456-7890.\"\n",
    "match1 = re.search(r\"\\d(3)-\\d(4)\", text)\n",
    "print(\"7-digit phone match\", match1.group() if match1 else print(\"no match\"))"
   ]
  },
  {
   "cell_type": "code",
   "execution_count": 8,
   "metadata": {},
   "outputs": [
    {
     "name": "stdout",
     "output_type": "stream",
     "text": [
      "Leading numbers: 123\n"
     ]
    }
   ],
   "source": [
    "import re\n",
    "text = \"123abc456\"\n",
    "match = re.match(r\"\\d+\", text)\n",
    "print(\"Leading numbers:\", match.group() if match else \"No match\")  # Output: \"123\"\n"
   ]
  },
  {
   "cell_type": "code",
   "execution_count": 9,
   "metadata": {},
   "outputs": [
    {
     "name": "stdout",
     "output_type": "stream",
     "text": [
      "All numbers: ['45', '30', '15']\n"
     ]
    }
   ],
   "source": [
    "import re\n",
    "text = \"Items: 45 apples, 30 bananas, 15 oranges.\"\n",
    "numbers = re.findall(r\"\\d+\", text)\n",
    "print(\"All numbers:\", numbers)  # Output: ['45', '30', '15']\n"
   ]
  },
  {
   "cell_type": "code",
   "execution_count": 10,
   "metadata": {},
   "outputs": [
    {
     "name": "stdout",
     "output_type": "stream",
     "text": [
      "Year: 2024, Month: 11, Day: 09\n"
     ]
    }
   ],
   "source": [
    "import re\n",
    "date = \"Date: 2024-11-09\"\n",
    "match = re.search(r\"(\\d{4})-(\\d{2})-(\\d{2})\", date)\n",
    "if match:\n",
    "    year = match.group(1)\n",
    "    month = match.group(2)\n",
    "    day = match.group(3)\n",
    "    print(f\"Year: {year}, Month: {month}, Day: {day}\")  # Output: Year: 2024, Month: 11, Day: 09\n"
   ]
  },
  {
   "cell_type": "code",
   "execution_count": 12,
   "metadata": {},
   "outputs": [
    {
     "name": "stdout",
     "output_type": "stream",
     "text": [
      "Total Sales:\n",
      " Name\n",
      "Alice    500\n",
      "Bob      550\n",
      "Name: Sales, dtype: int64\n"
     ]
    },
    {
     "name": "stderr",
     "output_type": "stream",
     "text": [
      "/tmp/ipykernel_718/145567142.py:1: DeprecationWarning: \n",
      "Pyarrow will become a required dependency of pandas in the next major release of pandas (pandas 3.0),\n",
      "(to allow more performant data types, such as the Arrow string type, and better interoperability with other libraries)\n",
      "but was not found to be installed on your system.\n",
      "If this would cause problems for you,\n",
      "please provide us feedback at https://github.com/pandas-dev/pandas/issues/54466\n",
      "        \n",
      "  import pandas as pd\n"
     ]
    }
   ],
   "source": [
    "import pandas as pd\n",
    "data = {\n",
    "    \"Name\": [\"Alice\", \"Bob\", \"Alice\", \"Bob\"],\n",
    "    \"Sales\": [200, 150, 300, 400]\n",
    "}\n",
    "df = pd.DataFrame(data)\n",
    "\n",
    "# Group by Name and calculate total sales for each person\n",
    "total_sales = df.groupby(\"Name\")[\"Sales\"].sum()\n",
    "print(\"Total Sales:\\n\", total_sales)\n"
   ]
  },
  {
   "cell_type": "code",
   "execution_count": 13,
   "metadata": {},
   "outputs": [
    {
     "name": "stdout",
     "output_type": "stream",
     "text": [
      "Merged Data:\n",
      "    ID   Name         City\n",
      "0   1  Alice     New York\n",
      "1   2    Bob  Los Angeles\n"
     ]
    }
   ],
   "source": [
    "data1 = {\"ID\": [1, 2], \"Name\": [\"Alice\", \"Bob\"]}\n",
    "data2 = {\"ID\": [1, 2], \"City\": [\"New York\", \"Los Angeles\"]}\n",
    "df1 = pd.DataFrame(data1)\n",
    "df2 = pd.DataFrame(data2)\n",
    "\n",
    "# Merge data on the ID column\n",
    "merged_df = pd.merge(df1, df2, on=\"ID\")\n",
    "print(\"Merged Data:\\n\", merged_df)\n"
   ]
  }
 ],
 "metadata": {
  "kernelspec": {
   "display_name": "getcontact",
   "language": "python",
   "name": "python3"
  },
  "language_info": {
   "codemirror_mode": {
    "name": "ipython",
    "version": 3
   },
   "file_extension": ".py",
   "mimetype": "text/x-python",
   "name": "python",
   "nbconvert_exporter": "python",
   "pygments_lexer": "ipython3",
   "version": "3.11.8"
  }
 },
 "nbformat": 4,
 "nbformat_minor": 2
}
